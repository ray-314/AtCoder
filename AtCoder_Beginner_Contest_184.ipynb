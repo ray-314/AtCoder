{
 "cells": [
  {
   "cell_type": "markdown",
   "metadata": {
    "id": "23IfcSFCzIc3"
   },
   "source": [
    "## AtCoder Beginner Contest 184\n",
    "This file is my own answer to this contest  \n",
    "I participated in AtCoder Beginner Contest 184 for the first time. "
   ]
  },
  {
   "cell_type": "markdown",
   "metadata": {
    "id": "SMgHzXDEMeTV"
   },
   "source": [
    "### 問1. A - Determinant"
   ]
  },
  {
   "cell_type": "code",
   "execution_count": 5,
   "metadata": {
    "colab": {
     "base_uri": "https://localhost:8080/"
    },
    "executionInfo": {
     "elapsed": 6545,
     "status": "ok",
     "timestamp": 1606046514635,
     "user": {
      "displayName": "中村優太",
      "photoUrl": "",
      "userId": "15697133059278154049"
     },
     "user_tz": -540
    },
    "id": "YUQ3mwPH0F3v",
    "outputId": "6dcb16e6-bd38-4b66-c2ee-50f5e266de0c"
   },
   "outputs": [
    {
     "name": "stdout",
     "output_type": "stream",
     "text": [
      "0 -1\n",
      "1 0\n",
      "1\n"
     ]
    }
   ],
   "source": [
    "a, b = map(int, input().split())\n",
    "c, d = map(int, input().split())\n",
    "\n",
    "print(a*d-b*c)"
   ]
  },
  {
   "cell_type": "markdown",
   "metadata": {
    "id": "WunNXduqMlAi"
   },
   "source": [
    "解答"
   ]
  },
  {
   "cell_type": "code",
   "execution_count": null,
   "metadata": {
    "id": "-wMIVEGSMpU7"
   },
   "outputs": [],
   "source": [
    "a, b = map(int, input().split())\n",
    "c, d = map(int, input().split())\n",
    "print(a * d - b * c)"
   ]
  },
  {
   "cell_type": "markdown",
   "metadata": {
    "id": "NQpuZHQnMqIq"
   },
   "source": [
    "### 問2. B - Quizzes"
   ]
  },
  {
   "cell_type": "code",
   "execution_count": 8,
   "metadata": {
    "colab": {
     "base_uri": "https://localhost:8080/"
    },
    "executionInfo": {
     "elapsed": 22912,
     "status": "ok",
     "timestamp": 1606046945982,
     "user": {
      "displayName": "中村優太",
      "photoUrl": "",
      "userId": "15697133059278154049"
     },
     "user_tz": -540
    },
    "id": "J27PLlRJ1Xyq",
    "outputId": "3be71a60-3bad-4e07-e73a-e97ca6520dd5"
   },
   "outputs": [
    {
     "name": "stdout",
     "output_type": "stream",
     "text": [
      "20 199999\n",
      "oooooooooxoooooooooo\n",
      "200017\n"
     ]
    }
   ],
   "source": [
    "N, X=map(int, input().split())\n",
    "S = input()\n",
    "\n",
    "for i in range(N):\n",
    "  if X==0:\n",
    "    if S[i]==\"o\":\n",
    "      X+=1\n",
    "  elif X>0:\n",
    "    if S[i]==\"o\":\n",
    "      X+=1\n",
    "    elif S[i]==\"x\":\n",
    "      X = X - 1\n",
    "print(X)"
   ]
  },
  {
   "cell_type": "markdown",
   "metadata": {
    "id": "AQG5safTM8nC"
   },
   "source": [
    "解答"
   ]
  },
  {
   "cell_type": "markdown",
   "metadata": {
    "id": "x8SMX5vPPJLu"
   },
   "source": [
    "elif X:　でXが0時は中には入らず、Xが0以外ではXに-1を行うようになっている。"
   ]
  },
  {
   "cell_type": "code",
   "execution_count": 33,
   "metadata": {
    "colab": {
     "base_uri": "https://localhost:8080/"
    },
    "executionInfo": {
     "elapsed": 5878,
     "status": "ok",
     "timestamp": 1606053298451,
     "user": {
      "displayName": "中村優太",
      "photoUrl": "",
      "userId": "15697133059278154049"
     },
     "user_tz": -540
    },
    "id": "6bs9QzZuM-bB",
    "outputId": "faad1d1e-5407-4de6-8283-91bfde5e3868"
   },
   "outputs": [
    {
     "name": "stdout",
     "output_type": "stream",
     "text": [
      "3 0\n",
      "xox\n",
      "0\n"
     ]
    }
   ],
   "source": [
    "N, X = map(int, input().split())\n",
    "S = input()\n",
    "for s in S:\n",
    "    if s == 'o':\n",
    "        X += 1\n",
    "    elif X:\n",
    "        X -= 1\n",
    "print(X)"
   ]
  },
  {
   "cell_type": "markdown",
   "metadata": {
    "id": "T1BuK_gOM-3c"
   },
   "source": [
    "## 問3. C - Super Ryuma"
   ]
  },
  {
   "cell_type": "markdown",
   "metadata": {
    "id": "j9pi1rjtmHJQ"
   },
   "source": [
    "解けなかった"
   ]
  },
  {
   "cell_type": "markdown",
   "metadata": {
    "id": "jMQ3m3fEPz39"
   },
   "source": [
    "パート1"
   ]
  },
  {
   "cell_type": "code",
   "execution_count": 17,
   "metadata": {
    "colab": {
     "base_uri": "https://localhost:8080/"
    },
    "executionInfo": {
     "elapsed": 7378,
     "status": "ok",
     "timestamp": 1606048559998,
     "user": {
      "displayName": "中村優太",
      "photoUrl": "",
      "userId": "15697133059278154049"
     },
     "user_tz": -540
    },
    "id": "72Z_nlyu2-7Y",
    "outputId": "98c63f95-579d-413e-f718-651b07e633cb"
   },
   "outputs": [
    {
     "name": "stdout",
     "output_type": "stream",
     "text": [
      "2 3\n",
      "1 3\n"
     ]
    }
   ],
   "source": [
    "r1, c1 = map(int, input().split())\n",
    "r2, c2 = map(int, input().split())\n",
    "\n",
    "count=0\n",
    "list_rc=[]\n",
    "\n",
    "for i in range(-1*abs(r2-r1),abs(r2-r1)+1):\n",
    "  for j in range(-1*abs(c2-c1),abs(c2-c1)+1):\n",
    "    if r1+c1==(r1+i)+(c1+j) or r1-c1==(r1+i)-(c1+j) or abs(r1-(r1+i))+abs(c1-(c1+j))<=3:\n",
    "      if \n",
    "      count+=1\n",
    "      #list_rc.append([i, j])"
   ]
  },
  {
   "cell_type": "markdown",
   "metadata": {
    "id": "zWeE0uCOP2k1"
   },
   "source": [
    "パート2"
   ]
  },
  {
   "cell_type": "code",
   "execution_count": 19,
   "metadata": {
    "colab": {
     "base_uri": "https://localhost:8080/"
    },
    "executionInfo": {
     "elapsed": 6136,
     "status": "ok",
     "timestamp": 1606048679093,
     "user": {
      "displayName": "中村優太",
      "photoUrl": "",
      "userId": "15697133059278154049"
     },
     "user_tz": -540
    },
    "id": "LDm84VHR2-6L",
    "outputId": "c4eaf744-521a-4596-986b-56a57c270e85"
   },
   "outputs": [
    {
     "name": "stdout",
     "output_type": "stream",
     "text": [
      "1 1\n",
      "5 6\n",
      "6.4031242374328485\n"
     ]
    }
   ],
   "source": [
    "r1, c1 = map(int, input().split())\n",
    "r2, c2 = map(int, input().split())\n",
    "\n",
    "count=0\n",
    "list_rc=[]\n",
    "\n",
    "for k in range(10**9)\n",
    "for i in range(r2-r1):\n",
    "  for j in range(c2-c1):\n",
    "     if r1+c1==(r1+i)+(c1+j) or r1-c1==(r1+i)-(c1+j) or abs(r1-(r1+i))+abs(c1-(c1+j))<=3:\n",
    "      if i==0:\n",
    "        x = abs(r2-(r1+i) + c2-(c1+j))\n",
    "      else:\n",
    "        if (r2-(r1+i) + c2-(c1+j)) < x:\n",
    "          x = r2-(r1+i) + c2-(c1+j)\n",
    "          list_rc=[i, j]\n",
    "        count+=1\n",
    "        print(count)"
   ]
  },
  {
   "cell_type": "markdown",
   "metadata": {
    "id": "hluKfeDBP4eL"
   },
   "source": [
    "解答"
   ]
  },
  {
   "cell_type": "code",
   "execution_count": 35,
   "metadata": {
    "colab": {
     "base_uri": "https://localhost:8080/"
    },
    "executionInfo": {
     "elapsed": 20588,
     "status": "ok",
     "timestamp": 1606059301545,
     "user": {
      "displayName": "中村優太",
      "photoUrl": "",
      "userId": "15697133059278154049"
     },
     "user_tz": -540
    },
    "id": "YLWnFS00P6GX",
    "outputId": "fc5e8475-dcd6-40bc-b12c-2cd9da2d33d7"
   },
   "outputs": [
    {
     "name": "stdout",
     "output_type": "stream",
     "text": [
      "2 3\n",
      "998244353 998244853\n",
      "3\n"
     ]
    }
   ],
   "source": [
    "r1, c1 = map(int, input().split())\n",
    "r2, c2 = map(int, input().split())\n",
    "r = r2 - r1\n",
    "c = c2 - c1\n",
    "if (r, c) == (0, 0):\n",
    "    ans = 0\n",
    "elif r == c or r == -c: \n",
    "    ans = 1\n",
    "elif abs(r) + abs(c) <= 3:\n",
    "    ans = 1\n",
    "elif (r ^ c ^ 1) & 1: #elif (r1+c1+r2+c2)%2==0:\n",
    "    ans = 2\n",
    "elif abs(r) + abs(c) <= 6:\n",
    "    ans = 2\n",
    "elif abs(r + c) <= 3 or abs(r - c) <= 3:\n",
    "    ans = 2\n",
    "else:\n",
    "    ans = 3\n",
    "print(ans)"
   ]
  },
  {
   "cell_type": "markdown",
   "metadata": {
    "id": "RIqCNs6_P6nB"
   },
   "source": [
    "## 問4. D - increment of coins"
   ]
  },
  {
   "cell_type": "markdown",
   "metadata": {
    "id": "AhEXmj4ivBKF"
   },
   "source": [
    "解けなかった"
   ]
  },
  {
   "cell_type": "code",
   "execution_count": 36,
   "metadata": {
    "colab": {
     "base_uri": "https://localhost:8080/"
    },
    "executionInfo": {
     "elapsed": 6758,
     "status": "ok",
     "timestamp": 1606063076014,
     "user": {
      "displayName": "中村優太",
      "photoUrl": "",
      "userId": "15697133059278154049"
     },
     "user_tz": -540
    },
    "id": "bxkLkaYWDb13",
    "outputId": "f2fcfb0f-2610-4d44-90c0-bd15461c2863"
   },
   "outputs": [
    {
     "name": "stdout",
     "output_type": "stream",
     "text": [
      "98 99 99\n",
      "1.331081081\n"
     ]
    }
   ],
   "source": [
    "a, b, c = map(int, input().split())\n",
    "if a==100 or b==100 or c==100:\n",
    "  a_value=0\n",
    "  b_value=0\n",
    "  c_value=0\n",
    "else:\n",
    "  if a!=0:\n",
    "    a_value = (100-a)*(a/(a+b+c))\n",
    "  elif a==0:\n",
    "    a_value = 0\n",
    "\n",
    "  if b!=0:\n",
    "    b_value = (100-b)*(b/(a+b+c))\n",
    "  elif b==0:\n",
    "    b_value = 0\n",
    "\n",
    "  if c!=0:\n",
    "    c_value = (100-c)*(c/(a+b+c))\n",
    "  elif c==0:\n",
    "    c_value = 0\n",
    "\n",
    "print(\"{0:.9f}\".format(a_value+b_value+c_value, 9))"
   ]
  },
  {
   "cell_type": "markdown",
   "metadata": {
    "id": "ogioelcd2AW_"
   },
   "source": [
    "解答"
   ]
  },
  {
   "cell_type": "markdown",
   "metadata": {
    "id": "W3iRxDEy2Fog"
   },
   "source": [
    "なし"
   ]
  },
  {
   "cell_type": "code",
   "execution_count": null,
   "metadata": {
    "id": "I1G_chkx2HCE"
   },
   "outputs": [],
   "source": []
  }
 ],
 "metadata": {
  "colab": {
   "authorship_tag": "ABX9TyOKDEVYkbILypKEuF34CfZd",
   "collapsed_sections": [],
   "name": "AtCoder_Beginner_Contest_184.ipynb",
   "provenance": []
  },
  "kernelspec": {
   "display_name": "Python 3",
   "language": "python",
   "name": "python3"
  },
  "language_info": {
   "codemirror_mode": {
    "name": "ipython",
    "version": 3
   },
   "file_extension": ".py",
   "mimetype": "text/x-python",
   "name": "python",
   "nbconvert_exporter": "python",
   "pygments_lexer": "ipython3",
   "version": "3.8.6"
  }
 },
 "nbformat": 4,
 "nbformat_minor": 4
}
