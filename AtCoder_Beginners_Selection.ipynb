{
 "cells": [
  {
   "cell_type": "markdown",
   "metadata": {
    "id": "ad6RWA2kXKxO"
   },
   "source": [
    "# AtCoder チュートリアル\n",
    "### AtCoder Beginners Selection\n",
    "## 過去問 10問"
   ]
  },
  {
   "cell_type": "markdown",
   "metadata": {
    "id": "cKI5jkArS1JT"
   },
   "source": [
    "## 問0.\n",
    "### PracticeA - Welcome to AtCoder"
   ]
  },
  {
   "cell_type": "code",
   "execution_count": null,
   "metadata": {
    "colab": {
     "base_uri": "https://localhost:8080/"
    },
    "executionInfo": {
     "elapsed": 10858,
     "status": "ok",
     "timestamp": 1605299928460,
     "user": {
      "displayName": "中村優太",
      "photoUrl": "",
      "userId": "15697133059278154049"
     },
     "user_tz": -540
    },
    "id": "GdMtEEhoTFAx",
    "outputId": "2bd45e4e-4427-4762-ed75-4b0356b3b026"
   },
   "outputs": [
    {
     "name": "stdout",
     "output_type": "stream",
     "text": [
      "3\n",
      "1 2\n",
      "test\n",
      "6 test\n"
     ]
    }
   ],
   "source": [
    "a = int(input())\n",
    "#.split()で \"1 2\" のような空白入力をそれぞれ分けて捉えて、\n",
    "#それを一つずつintに変換しb,cに代入している\n",
    "b, c = map(int, input().split())\n",
    "s = input()\n",
    "print(\"{0} {1}\".format(a+b+c, s))"
   ]
  },
  {
   "cell_type": "markdown",
   "metadata": {
    "id": "X0ydg_M5mVvx"
   },
   "source": [
    "解答\n",
    "\n",
    "パターン1"
   ]
  },
  {
   "cell_type": "code",
   "execution_count": null,
   "metadata": {
    "id": "NypViXYzmaH8"
   },
   "outputs": [],
   "source": [
    "a = int(input())\n",
    "b, c = map(int, input().split())\n",
    "s = input()\n",
    "print(\"{} {}\".format(a+b+c, s))"
   ]
  },
  {
   "cell_type": "markdown",
   "metadata": {
    "id": "q2PB-BjAXB9t"
   },
   "source": [
    "## 問1.\n",
    "### ABC086A - Product"
   ]
  },
  {
   "cell_type": "code",
   "execution_count": null,
   "metadata": {
    "colab": {
     "base_uri": "https://localhost:8080/"
    },
    "executionInfo": {
     "elapsed": 4792,
     "status": "ok",
     "timestamp": 1605300608730,
     "user": {
      "displayName": "中村優太",
      "photoUrl": "",
      "userId": "15697133059278154049"
     },
     "user_tz": -540
    },
    "id": "32uKeZIpXIpO",
    "outputId": "c0d76e55-6df7-40d8-d68a-a82c193d97b1"
   },
   "outputs": [
    {
     "name": "stdout",
     "output_type": "stream",
     "text": [
      "1 21\n",
      "Odd\n"
     ]
    }
   ],
   "source": [
    "a, b = map(int, input().split())\n",
    "c = a * b\n",
    "if c%2==0:\n",
    "  print(\"Even\")\n",
    "else:\n",
    "  print(\"Odd\")"
   ]
  },
  {
   "cell_type": "markdown",
   "metadata": {
    "id": "286WX_Q1nrrN"
   },
   "source": [
    "解答\n",
    "\n",
    "パターン1"
   ]
  },
  {
   "cell_type": "code",
   "execution_count": null,
   "metadata": {
    "id": "1OaT1EXanq5e"
   },
   "outputs": [],
   "source": [
    "a, b = map(int, input().split())\n",
    "if (a*b) % 2:\n",
    "  print('Odd')\n",
    "else:\n",
    "  print('Even')"
   ]
  },
  {
   "cell_type": "markdown",
   "metadata": {
    "id": "B_OIIBbrvhap"
   },
   "source": [
    "if 0: は if False: と同じなので else の処理へ向かう。\n",
    "elseは0で、2で割ったわまりが0であるので偶数であることがわかる。"
   ]
  },
  {
   "cell_type": "markdown",
   "metadata": {
    "id": "TZXRy_5EYBkM"
   },
   "source": [
    "## 問2.\n",
    "### ABC081A - Placing Marbles"
   ]
  },
  {
   "cell_type": "code",
   "execution_count": null,
   "metadata": {
    "colab": {
     "base_uri": "https://localhost:8080/"
    },
    "executionInfo": {
     "elapsed": 2400,
     "status": "ok",
     "timestamp": 1605301567843,
     "user": {
      "displayName": "中村優太",
      "photoUrl": "",
      "userId": "15697133059278154049"
     },
     "user_tz": -540
    },
    "id": "iVdHum7qYBKP",
    "outputId": "68d926ec-854a-4d8d-9a7f-f9a48469e0aa"
   },
   "outputs": [
    {
     "name": "stdout",
     "output_type": "stream",
     "text": [
      "011\n",
      "2\n"
     ]
    }
   ],
   "source": [
    "#inputで読み込んだstr型の\"011\"をリスト型でとると[\"0\", \"1\", \"1\"]となる\n",
    "#それをint型に変更( [0,1,1] )し、それをmap関数でs_1-s_3に代入している \n",
    "s_1, s_2, s_3 = map(int ,list(input()))\n",
    "print(s_1+s_2+s_3)"
   ]
  },
  {
   "cell_type": "markdown",
   "metadata": {
    "id": "7Nkhi0Esv4eh"
   },
   "source": [
    "解答\n",
    "\n",
    "パターン1"
   ]
  },
  {
   "cell_type": "code",
   "execution_count": null,
   "metadata": {
    "id": "d10R0_Mjv8On"
   },
   "outputs": [],
   "source": [
    "print(input().count('1'))"
   ]
  },
  {
   "cell_type": "markdown",
   "metadata": {
    "id": "SXqYtm9fwBb5"
   },
   "source": [
    "解法は入力では\"0\"か\"1\"のみ入力されるため単純に文字列から\"1\"の数を数えるだけとういう事に気づくという事"
   ]
  },
  {
   "cell_type": "markdown",
   "metadata": {
    "id": "nv7PCADMwiGV"
   },
   "source": [
    "input() で標準入力から '101' を取得し、.count('1') で取得した文字列から '1' の数を数えて 2 を得る。"
   ]
  },
  {
   "cell_type": "markdown",
   "metadata": {
    "id": "bFJS3mJybtK2"
   },
   "source": [
    "## 問3.\n",
    "### ABC081B - Shift only"
   ]
  },
  {
   "cell_type": "code",
   "execution_count": null,
   "metadata": {
    "colab": {
     "base_uri": "https://localhost:8080/"
    },
    "executionInfo": {
     "elapsed": 11559,
     "status": "ok",
     "timestamp": 1605302814237,
     "user": {
      "displayName": "中村優太",
      "photoUrl": "",
      "userId": "15697133059278154049"
     },
     "user_tz": -540
    },
    "id": "LVDp4iHebtbR",
    "outputId": "9556e914-0ea3-4e25-8552-bd36505a8d21"
   },
   "outputs": [
    {
     "name": "stdout",
     "output_type": "stream",
     "text": [
      "3\n",
      "8 12 40\n",
      "2\n"
     ]
    }
   ],
   "source": [
    "import numpy as np\n",
    "\n",
    "n = int(input())\n",
    "#出力の変数の設定\n",
    "times = 0\n",
    "#予め読み込む変数の数n個分のリストを作成\n",
    "s = [0] * n\n",
    "s = list(map(int , input().split()))\n",
    "#行列計算ができるように行列に変換\n",
    "s = np.array(s)\n",
    "#all()はs%2==0が全てTrueの時のみTrueを返す(それ以外はFalse)関数\n",
    "#つまりは一つでもFalseがあればwhile文は通らない\n",
    "while all(s%2==0):\n",
    "  times += 1\n",
    "  s = s / 2\n",
    "print(times)\n",
    "  "
   ]
  },
  {
   "cell_type": "markdown",
   "metadata": {
    "id": "sftrtir0w9EX"
   },
   "source": [
    "解答\n",
    "\n",
    "パターン1"
   ]
  },
  {
   "cell_type": "code",
   "execution_count": null,
   "metadata": {
    "id": "7ML60gCUxAis"
   },
   "outputs": [],
   "source": [
    "n = input()\n",
    "a = list(map(int, input().split()))\n",
    "ans = float('inf')\n",
    "for i in a:\n",
    "  ans = min(ans, len(bin(i)) - bin(i).rfind('1') - 1)\n",
    "print(ans)"
   ]
  },
  {
   "cell_type": "markdown",
   "metadata": {
    "id": "wl7REH5qxDmB"
   },
   "source": [
    "float('inf') で ∞ (無限大)を作る。ans に ∞ を代入する。\n",
    "for i in a: で a の要素 [8, 12, 40] だけループする。\n",
    "bin(i) で 10 進数を 2 進数に変換する。i が 8 の場合 bin(8) は '0b1000' に変換される。\n",
    "len('0b1000') で文字列の文字数 6 を得る。\n",
    "bin(8).rfind('1') は文字列 '0b1000' から最後に見つけた '1' の位置 2 を得る。\n",
    "6 - 2 - 1 は 3 。つまり 8 は 2 で 3 回まで割ることができます。\n",
    "min(∞, 3) で小さい方の要素 3 を得る。\n",
    "ans に 3 を代入する。"
   ]
  },
  {
   "cell_type": "markdown",
   "metadata": {
    "id": "m1H0yaogjCD0"
   },
   "source": [
    "## 問4.\n",
    "### ABC087B - Coins"
   ]
  },
  {
   "cell_type": "code",
   "execution_count": null,
   "metadata": {
    "colab": {
     "base_uri": "https://localhost:8080/"
    },
    "executionInfo": {
     "elapsed": 12251,
     "status": "ok",
     "timestamp": 1605304389494,
     "user": {
      "displayName": "中村優太",
      "photoUrl": "",
      "userId": "15697133059278154049"
     },
     "user_tz": -540
    },
    "id": "R7qbTuD5jCVc",
    "outputId": "e15f1f67-2efc-4e02-e53c-d63c40b25d73"
   },
   "outputs": [
    {
     "name": "stdout",
     "output_type": "stream",
     "text": [
      "30\n",
      "40\n",
      "50\n",
      "6000\n",
      "213\n"
     ]
    }
   ],
   "source": [
    "A = int(input())\n",
    "B = int(input())\n",
    "C = int(input())\n",
    "X = int(input())\n",
    "#数えるための変数\n",
    "count = 0\n",
    "#for文で確率を全通り計算している\n",
    "for i in range(A+1):\n",
    "  for j in range(B+1):\n",
    "    for k in range(C+1):\n",
    "      sum = 0\n",
    "      sum = 50 * k + 100 * j + 500 * i\n",
    "      #その中でもXと同じ値になった時のみcountを+1する\n",
    "      if sum==X:\n",
    "        count += 1\n",
    "\n",
    "print(count)"
   ]
  },
  {
   "cell_type": "markdown",
   "metadata": {
    "id": "YoC41DBXzmTI"
   },
   "source": [
    "解答\n",
    "\n",
    "パターン1"
   ]
  },
  {
   "cell_type": "code",
   "execution_count": null,
   "metadata": {
    "id": "0Kcgf7nFzpAe"
   },
   "outputs": [],
   "source": [
    "a, b, c, x = map(int, [input() for i in range(4)])\n",
    "ans = 0\n",
    "for i in range(a+1):\n",
    "  for j in range(b+1):\n",
    "    for k in range(c+1):\n",
    "      if i * 500 + j * 100 + k * 50 == x:\n",
    "        ans += 1\n",
    "print(ans)"
   ]
  },
  {
   "cell_type": "markdown",
   "metadata": {
    "id": "R0WHnRv01Npn"
   },
   "source": [
    "input() for i in range(4) で input() を 4 回繰り返して ['2', '2', '2', '100'] を取得する。"
   ]
  },
  {
   "cell_type": "markdown",
   "metadata": {
    "id": "SQ2b-4Ns1UI3"
   },
   "source": [
    "パターン2"
   ]
  },
  {
   "cell_type": "code",
   "execution_count": null,
   "metadata": {
    "id": "jU83p_mm1TaU"
   },
   "outputs": [],
   "source": [
    "A,B,C,X = [int(input()) for i in range(4)]\n",
    "X //= 50\n",
    "ans = 0\n",
    "for i in range(A + 1):\n",
    "    if 10*i > X: break\n",
    "    rem = X - 10*i\n",
    "    for j in range(B + 1):\n",
    "        if 2*j > rem: break\n",
    "        if rem - 2*j <= C:\n",
    "            ans += 1\n",
    "print(ans)"
   ]
  },
  {
   "cell_type": "markdown",
   "metadata": {
    "id": "JLFhI36d2tZy"
   },
   "source": [
    "リスト内表記を使って4つの変数にinputする。\n",
    "2行目の $X // = 50$ はXが50の倍数という問題設定を利用して値を小さくしている。\n",
    "(x // y   x と y の商を切り下げたもの)\n",
    "for文を1回文減らして速度を上げている"
   ]
  },
  {
   "cell_type": "markdown",
   "metadata": {
    "id": "MqVhNMMSnYVC"
   },
   "source": [
    "## 問5.\n",
    "### ABC083B - Some Sums"
   ]
  },
  {
   "cell_type": "code",
   "execution_count": null,
   "metadata": {
    "colab": {
     "base_uri": "https://localhost:8080/"
    },
    "executionInfo": {
     "elapsed": 6709,
     "status": "ok",
     "timestamp": 1605305689606,
     "user": {
      "displayName": "中村優太",
      "photoUrl": "",
      "userId": "15697133059278154049"
     },
     "user_tz": -540
    },
    "id": "yjrfIa4NnYgq",
    "outputId": "d585e11c-9a10-4578-ba6b-dba3f86c728f"
   },
   "outputs": [
    {
     "name": "stdout",
     "output_type": "stream",
     "text": [
      "100 4 16\n",
      "4554\n"
     ]
    }
   ],
   "source": [
    "import numpy as np\n",
    "\n",
    "N, A, B = map(int, input().split())\n",
    "z = 0\n",
    "#総和を表すための変数\n",
    "sum = 0\n",
    "\n",
    "#通常0からN-1目までなので1からNまでfor文を回すように変更\n",
    "for i in range(1,N+1):\n",
    "  #例) np.array(list(map(int, str(i))))で \"21\" をmap関数により\n",
    "  #2, 1 に変更しlistで[2, 1]にしたのち、それを行列に変更し、np.sumで総和を求める\n",
    "  z = np.sum(np.array(list(map(int, str(i)))))\n",
    "  if A <= z and z <=B:\n",
    "    sum = sum + i\n",
    "\n",
    "print(sum)"
   ]
  },
  {
   "cell_type": "markdown",
   "metadata": {
    "id": "3ZLDr2kE63m3"
   },
   "source": [
    "解答\n",
    "\n",
    "パターン1"
   ]
  },
  {
   "cell_type": "code",
   "execution_count": null,
   "metadata": {
    "id": "OYBm2FNI68gc"
   },
   "outputs": [],
   "source": [
    "n, a, b = map(int, input().split())\n",
    "ans = 0\n",
    "for i in range(n+1):\n",
    "  if a <= sum(list(map(int, list(str(i))))) <= b:\n",
    "    ans += i\n",
    "print(ans)"
   ]
  },
  {
   "cell_type": "markdown",
   "metadata": {
    "id": "xtRdrZ0b6_vb"
   },
   "source": [
    "今回は i が 13 のときの解説をします。\n",
    "str(i) で 13 を '13' にキャストする。\n",
    "list('13') で '13' を ['1', '3'] に分割する。\n",
    "map(int, ['1', '3']) で ['1', '3'] を [1, 3] にする。\n",
    "list([1, 3]) でイテレータをリストにする。\n",
    "sum([1, 3]) で 4 を得る。\n",
    "if 2 <= 4 <= 5: は if True なので ans += i で ans の値を 13 増やす。"
   ]
  },
  {
   "cell_type": "markdown",
   "metadata": {
    "id": "wgYqdLwM7cLg"
   },
   "source": [
    "パターン2"
   ]
  },
  {
   "cell_type": "code",
   "execution_count": null,
   "metadata": {
    "id": "n5hkoI889HbZ"
   },
   "outputs": [],
   "source": [
    "N,A,B=map(int,input().split())\n",
    "print(sum(i*(A<=sum(map(int,str(i)))<=B)for i in range(N+1)))"
   ]
  },
  {
   "cell_type": "markdown",
   "metadata": {
    "id": "wsxSuikP9JOf"
   },
   "source": [
    "最もコード長の短いプログラムで、たった2行！発想は私のコードと同じなのに…\n",
    "凄いのはsum(map(int,str(i)))こんなに短く各桁の和が求まるんですね。\n",
    "それからi*(A<=sum(map(int,str(i)))<=B)この部分は数値にbool型を掛けており、i*True=i、i*False=0という性質を利用しています。"
   ]
  },
  {
   "cell_type": "markdown",
   "metadata": {
    "id": "rMA1TnrRqNHF"
   },
   "source": [
    "## 問6.\n",
    "### ABC088B - Card Game for Two"
   ]
  },
  {
   "cell_type": "code",
   "execution_count": 6,
   "metadata": {
    "colab": {
     "base_uri": "https://localhost:8080/"
    },
    "executionInfo": {
     "elapsed": 9790,
     "status": "ok",
     "timestamp": 1605373434690,
     "user": {
      "displayName": "中村優太",
      "photoUrl": "",
      "userId": "15697133059278154049"
     },
     "user_tz": -540
    },
    "id": "XsheRt9qqNUj",
    "outputId": "a0eba5b3-edc4-4a46-eb07-c26d44a4c13d"
   },
   "outputs": [
    {
     "name": "stdout",
     "output_type": "stream",
     "text": [
      "4\n",
      "20 18 2 18\n",
      "18\n"
     ]
    }
   ],
   "source": [
    "N = int(input())\n",
    "a = list(map(int , input().split()))\n",
    "\n",
    "Alice = 0\n",
    "Bob = 0\n",
    "\n",
    "for i in range(1,N+1):\n",
    "  if i%2==1:\n",
    "    Alice = Alice + max(a)\n",
    "    a.remove(max(a))\n",
    "  else:\n",
    "    Bob = Bob + max(a)\n",
    "    a.remove(max(a))\n",
    "\n",
    "print(Alice-Bob)"
   ]
  },
  {
   "cell_type": "markdown",
   "metadata": {
    "id": "PL56eWre9hzv"
   },
   "source": [
    "解答\n",
    "\n",
    "パターン1"
   ]
  },
  {
   "cell_type": "code",
   "execution_count": null,
   "metadata": {
    "id": "DCgV5OVr9ktc"
   },
   "outputs": [],
   "source": [
    "n = int(input())\n",
    "a = sorted(list(map(int, input().split())), reverse=True)\n",
    "print(sum(a[::2]) - sum(a[1::2]))"
   ]
  },
  {
   "cell_type": "markdown",
   "metadata": {
    "id": "dvRcia1E-4oU"
   },
   "source": [
    "Python ではスライス ([::2]) を使うことで、n 個おきに要素を取得したりできるので便利です。"
   ]
  },
  {
   "cell_type": "markdown",
   "metadata": {
    "id": "nWvECrgHtyQL"
   },
   "source": [
    "## 問7.\n",
    "### ABC085B Kagami Mochi"
   ]
  },
  {
   "cell_type": "code",
   "execution_count": 39,
   "metadata": {
    "colab": {
     "base_uri": "https://localhost:8080/"
    },
    "executionInfo": {
     "elapsed": 19067,
     "status": "ok",
     "timestamp": 1605376350184,
     "user": {
      "displayName": "中村優太",
      "photoUrl": "",
      "userId": "15697133059278154049"
     },
     "user_tz": -540
    },
    "id": "eyKWJLvqtyfO",
    "outputId": "0affe208-3b98-455e-ff88-a96e3cce1976"
   },
   "outputs": [
    {
     "name": "stdout",
     "output_type": "stream",
     "text": [
      "4\n",
      "10\n",
      "8\n",
      "8\n",
      "5\n",
      "3\n"
     ]
    }
   ],
   "source": [
    "N = int(input())\n",
    "d = [0] * N\n",
    "for i in range(N):\n",
    "  d[i] = int(input())\n",
    "\n",
    "z = 0\n",
    "count = 0\n",
    "\n",
    "#sortは元のリストを変更しないが、list.sortは元のリストを変更する。デフォルトでは昇順\n",
    "list.sort(d, reverse = True)\n",
    "\n",
    "for i in range(N):\n",
    "  if len(d) == 0:\n",
    "    break\n",
    "  else:\n",
    "    z = d.pop(0)\n",
    "    #print(d, z, count)\n",
    "    count += 1\n",
    "    for j in range(i+1,N):\n",
    "      if len(d) == 0:\n",
    "        break\n",
    "      else:\n",
    "        if z==max(d):\n",
    "          d.remove(z)\n",
    "        else:\n",
    "          break\n",
    "\n",
    "print(count)"
   ]
  },
  {
   "cell_type": "markdown",
   "metadata": {
    "id": "GdUu_ACS_XTL"
   },
   "source": [
    "解答\n",
    "\n",
    "パターン1"
   ]
  },
  {
   "cell_type": "code",
   "execution_count": null,
   "metadata": {
    "id": "KJiX7qu-_alB"
   },
   "outputs": [],
   "source": [
    "n = int(input())\n",
    "print(len(set(map(int, [input() for i in range(n)]))))"
   ]
  },
  {
   "cell_type": "markdown",
   "metadata": {
    "id": "L7IVY8z3_dyr"
   },
   "source": [
    "input() for i in range(4) で input() を 4 回繰り返して ['10', '8', '8', '6'] を取得する。\n",
    "map(int, ['10', '8', '8', '6']) でキャストして [10, 8, 8, 6] にする。\n",
    "set([10, 8, 8, 6]) で同じ数値を弾いて [10, 8, 6] を得る。\n",
    "len([10, 8, 6]) で [10, 8, 6] の要素数 3 を得る。\n",
    "print(3) で標準出力に 3 を出力する。"
   ]
  },
  {
   "cell_type": "markdown",
   "metadata": {
    "id": "oDeYqARV405W"
   },
   "source": [
    "## 問8.\n",
    "### ABC085C - Otoshidama"
   ]
  },
  {
   "cell_type": "markdown",
   "metadata": {
    "id": "t4aVZmmJMDmm"
   },
   "source": [
    "まず最初に思い浮かぶ解法は、以下のような for 文を三重ループで回す解法である。すなわち、10000 円札を i 枚、5000 円札を j 枚、1000 円札を k 枚として、(i, j, k) のありうる組合せを全探索する。"
   ]
  },
  {
   "cell_type": "code",
   "execution_count": 67,
   "metadata": {
    "colab": {
     "base_uri": "https://localhost:8080/"
    },
    "executionInfo": {
     "elapsed": 10076,
     "status": "ok",
     "timestamp": 1605380377983,
     "user": {
      "displayName": "中村優太",
      "photoUrl": "",
      "userId": "15697133059278154049"
     },
     "user_tz": -540
    },
    "id": "82nQapHl1sDP",
    "outputId": "f4240bb9-c55e-4ad1-b259-026cca5f0fd2"
   },
   "outputs": [
    {
     "name": "stdout",
     "output_type": "stream",
     "text": [
      "2000 20000000\n",
      "2000 0 0\n"
     ]
    }
   ],
   "source": [
    "N, Y = map(int, input().split())\n",
    "\n",
    "sum = 0\n",
    "x_10=10000\n",
    "y_5 = 5000\n",
    "z_1 = 1000\n",
    "count = 0\n",
    "\n",
    "if Y<N*z_1 or Y>N*x_10:\n",
    "  print(-1, -1, -1)\n",
    "elif N*x_10 == Y:\n",
    "  print(N, 0, 0)\n",
    "elif N*y_5 == Y:\n",
    "  print(0, N, 0)\n",
    "elif N*z_1 == Y:\n",
    "  print(0, 0, N)\n",
    "else:\n",
    "  for i in range(N+1):\n",
    "    for j in range(N+1):\n",
    "      for k in range(N+1):\n",
    "        if (i+j+k)==N:\n",
    "          sum = i * x_10 + j * y_5 + k * z_1\n",
    "          if sum==Y:\n",
    "            print(i, j, k)\n",
    "            count +=1\n",
    "            break\n",
    "        elif (i+j+k)>N:\n",
    "          break\n",
    "      else:\n",
    "        continue\n",
    "      if count>0 or (i+j)>N:\n",
    "        break\n",
    "    else:\n",
    "      continue\n",
    "    if count>0:\n",
    "      break\n",
    "  if count==0:\n",
    "    print(-1, -1, -1)"
   ]
  },
  {
   "cell_type": "markdown",
   "metadata": {
    "id": "m4PvLKVZMRVp"
   },
   "source": [
    "しかしこのとき調べる場合の数は $(N+1)^3$通りになる。今、Nとしてありうる最大値は 2000であるので、ざっくり +1を除くと $2000^3=8,000,000,000$通りも調べることとなる。ここで重要な知見として\n",
    "\n",
    "1 秒間で処理できる for 文ループの回数は、$10^8=100,000,000$回程度\n",
    "\n",
    "というのがある。ざっくりとしているが、今後いかなるときも常に頭に置いておく目安である。さて、これでは制限時間 2 秒以内に計算実行するは厳しいことがわかると思います。工夫が必要となるのだが、よく考えると最後の\n",
    "\n",
    "for k in range(N+1)\n",
    "\n",
    "が不要であることに気がつく。なぜなら、i+j+k=N であることが最初から条件として課せられているため、i, jが決まれば、k=N−i−jと自動的に決まるからである。そうすると for 文ループは二重で済み、今度はざっくりと $2000^2=4,000,000$なので制限時間内に計算実行を終えることができます。"
   ]
  },
  {
   "cell_type": "code",
   "execution_count": 69,
   "metadata": {
    "colab": {
     "base_uri": "https://localhost:8080/"
    },
    "executionInfo": {
     "elapsed": 8065,
     "status": "ok",
     "timestamp": 1605381339543,
     "user": {
      "displayName": "中村優太",
      "photoUrl": "",
      "userId": "15697133059278154049"
     },
     "user_tz": -540
    },
    "id": "9LnVtsS9KCVE",
    "outputId": "2361ba63-d59b-4ed6-c27d-d1540f762b9d"
   },
   "outputs": [
    {
     "name": "stdout",
     "output_type": "stream",
     "text": [
      "2000 20000000\n",
      "2000 0 0\n"
     ]
    }
   ],
   "source": [
    "N, Y = map(int, input().split())\n",
    "\n",
    "sum = 0\n",
    "x_10=10000\n",
    "y_5 = 5000\n",
    "z_1 = 1000\n",
    "count = 0\n",
    "\n",
    "for i in range(N+1):\n",
    "  for j in range(N+1):\n",
    "    if i+j<=N:\n",
    "      k = N - i - j\n",
    "      sum =  i * x_10 + j * y_5 + k * z_1\n",
    "      if sum == Y:\n",
    "        print(i, j, k)\n",
    "        count += 1\n",
    "        break\n",
    "  else:\n",
    "    continue\n",
    "  break\n",
    "\n",
    "if count == 0:\n",
    "  print(-1, -1, -1)"
   ]
  },
  {
   "cell_type": "markdown",
   "metadata": {
    "id": "W4S0exCW_41F"
   },
   "source": [
    "解答\n",
    "\n",
    "パターン1"
   ]
  },
  {
   "cell_type": "code",
   "execution_count": null,
   "metadata": {
    "id": "B7MIOh04Aisy"
   },
   "outputs": [],
   "source": [
    "n, y = map(int, input().split())\n",
    "for i in range(n + 1):\n",
    "  for j in range(n - i + 1):\n",
    "    if i * 10000 + j * 5000 + (n - i - j) * 1000 == y:\n",
    "      print(i, j, n - i - j)\n",
    "      exit()\n",
    "print(\"-1 -1 -1\")"
   ]
  },
  {
   "cell_type": "markdown",
   "metadata": {
    "id": "eGwlBevaAn0Y"
   },
   "source": [
    "n - i - jで3重ループ必要なところを2重ループですましている。\n",
    "2重ループのところではrange(n+1)とせず、n-i+1とする事でi+j<=nの条件にあうようにして、ループ数を減らしている。\n",
    "また、exitでループの途中であってもプログラムを終了させている。"
   ]
  },
  {
   "cell_type": "markdown",
   "metadata": {
    "id": "wCxyyQzlNIV2"
   },
   "source": [
    "## 問9.\n",
    "### ABC049C - 白昼夢"
   ]
  },
  {
   "cell_type": "markdown",
   "metadata": {
    "id": "SV8-tIjgHlAX"
   },
   "source": [
    "解けなかった"
   ]
  },
  {
   "cell_type": "code",
   "execution_count": 70,
   "metadata": {
    "colab": {
     "base_uri": "https://localhost:8080/"
    },
    "executionInfo": {
     "elapsed": 11953,
     "status": "ok",
     "timestamp": 1605383134780,
     "user": {
      "displayName": "中村優太",
      "photoUrl": "",
      "userId": "15697133059278154049"
     },
     "user_tz": -540
    },
    "id": "sdxDV0GDNIfV",
    "outputId": "ebd76281-a5ed-4aac-80fc-d29ef3519909"
   },
   "outputs": [
    {
     "name": "stdout",
     "output_type": "stream",
     "text": [
      "erasedream\n",
      "erasedream\n"
     ]
    }
   ],
   "source": [
    "S = input()\n",
    "T = [] * len(S)\n",
    "\n",
    "if S.find(\"dream\"):\n",
    "  T\n",
    "elif S.find(\"dreamer\"):\n",
    "elif S.find(\"erase\"):\n",
    "elif S.find(\"eraser\"):\n",
    "else:\n",
    "\n",
    "\"dream\" in S\n",
    "\"dreamer\" in S\n",
    "\"erase\" in S\n",
    "\"eraser\" in S"
   ]
  },
  {
   "cell_type": "markdown",
   "metadata": {
    "id": "MMXuP7m79lrw"
   },
   "source": [
    "解答\n",
    "\n",
    "パターン1"
   ]
  },
  {
   "cell_type": "code",
   "execution_count": null,
   "metadata": {
    "id": "LYE8LvPY9jng"
   },
   "outputs": [],
   "source": [
    "import sys\n",
    "S = input()\n",
    "words = ['dream','dreamer','erase','eraser']\n",
    "T = \"\"\n",
    "while True:\n",
    "    for i in range(len(words)):\n",
    "        if words[i] == S[-(len(words[i])):]:\n",
    "            T = words[i] + T\n",
    "            S = S[0:len(S)-len(words[i])]\n",
    "            if(len(S)==0):\n",
    "                print(\"YES\")\n",
    "                sys.exit()\n",
    "            break\n",
    "        elif i == len(words)-1:\n",
    "            print(\"NO\")\n",
    "            sys.exit()"
   ]
  },
  {
   "cell_type": "markdown",
   "metadata": {
    "id": "0IielqQE-CwZ"
   },
   "source": [
    "パターン2"
   ]
  },
  {
   "cell_type": "code",
   "execution_count": null,
   "metadata": {
    "id": "JnaNlvpY-ENG"
   },
   "outputs": [],
   "source": [
    "s=input().replace(\"eraser\",\"\").replace(\"erase\",\"\").replace(\"dreamer\",\"\").replace(\"dream\",\"\")\n",
    "print(\"YES\" if len(s)==0 else \"NO\")"
   ]
  },
  {
   "cell_type": "markdown",
   "metadata": {
    "id": "wkSDFaS2LlfI"
   },
   "source": [
    ".replace() メソッドの順番はどれでも良いわけではなく、例えば最初に \"dreamer\" を \"\" に置き換えてしまった場合は残りが \"aser\" となってしまうため注意が必要。"
   ]
  },
  {
   "cell_type": "markdown",
   "metadata": {
    "id": "DxeJsCy3EwRc"
   },
   "source": [
    "## 問10.\n",
    "### ABC086C - Traveling"
   ]
  },
  {
   "cell_type": "code",
   "execution_count": 28,
   "metadata": {
    "colab": {
     "base_uri": "https://localhost:8080/"
    },
    "executionInfo": {
     "elapsed": 10943,
     "status": "ok",
     "timestamp": 1605435125319,
     "user": {
      "displayName": "中村優太",
      "photoUrl": "",
      "userId": "15697133059278154049"
     },
     "user_tz": -540
    },
    "id": "j3U4rTAtE3n7",
    "outputId": "f4e6b740-7091-483e-81d4-85222a5a1bd4"
   },
   "outputs": [
    {
     "name": "stdout",
     "output_type": "stream",
     "text": [
      "2\n",
      "7 3 4\n",
      "9 5 2\n",
      "Yes\n"
     ]
    }
   ],
   "source": [
    "import sys\n",
    "N = int(input())\n",
    "\n",
    "t = [0] * (N + 1)\n",
    "x  = [0] * (N + 1)\n",
    "y  = [0] * (N + 1)\n",
    "\n",
    "yes = 0\n",
    "\n",
    "for i in range(1,N+1):\n",
    "  t[i], x[i], y[i] = map(int, input().split())\n",
    "\n",
    "for i in range(1,N+1):\n",
    "  if (t[i]-t[i-1]) < (x[i]+y[i]-(x[i-1]+y[i-1])):\n",
    "    print(\"No\")\n",
    "    sys.exit()\n",
    "  else:\n",
    "    sum = x[i]+y[i]\n",
    "    for j in range(t[i]-t[i-1]):\n",
    "      if sum < (x[i-1]+y[i-1]):\n",
    "        sum = sum + 1\n",
    "      elif sum==(x[i-1]+y[i-1]):\n",
    "        sum = sum + 1\n",
    "      elif sum > (x[i-1]+y[i-1]):\n",
    "        sum = sum - 1\n",
    "    if sum==(x[i-1]+y[i-1]):\n",
    "      yes += 1\n",
    "      #print(\"Yes\")\n",
    "    else:\n",
    "      print(\"No\")\n",
    "      sys.exit()\n",
    "\n",
    "if yes==N:\n",
    "  print(\"Yes\")\n",
    "else:\n",
    "  print(\"No\")"
   ]
  },
  {
   "cell_type": "markdown",
   "metadata": {
    "id": "hBswxdqiUwld"
   },
   "source": [
    "上記の計算では2秒間で(3,4)と(5,2)が同じになることになってしまっている。"
   ]
  },
  {
   "cell_type": "code",
   "execution_count": 2,
   "metadata": {
    "colab": {
     "base_uri": "https://localhost:8080/",
     "height": 239
    },
    "executionInfo": {
     "elapsed": 16001,
     "status": "error",
     "timestamp": 1605567796361,
     "user": {
      "displayName": "中村優太",
      "photoUrl": "",
      "userId": "15697133059278154049"
     },
     "user_tz": -540
    },
    "id": "MOOeHjf7VLUr",
    "outputId": "95ad867a-690b-4b9b-f67c-b1e63135b98f"
   },
   "outputs": [
    {
     "name": "stdout",
     "output_type": "stream",
     "text": [
      "2\n",
      "5 5 0\n",
      "11 0 5\n",
      "No\n"
     ]
    },
    {
     "ename": "SystemExit",
     "evalue": "ignored",
     "output_type": "error",
     "traceback": [
      "An exception has occurred, use %tb to see the full traceback.\n",
      "\u001b[0;31mSystemExit\u001b[0m\n"
     ]
    },
    {
     "name": "stderr",
     "output_type": "stream",
     "text": [
      "/usr/local/lib/python3.6/dist-packages/IPython/core/interactiveshell.py:2890: UserWarning: To exit: use 'exit', 'quit', or Ctrl-D.\n",
      "  warn(\"To exit: use 'exit', 'quit', or Ctrl-D.\", stacklevel=1)\n"
     ]
    }
   ],
   "source": [
    "import sys\n",
    "N = int(input())\n",
    "\n",
    "t = [0] * (N + 1)\n",
    "x  = [0] * (N + 1)\n",
    "y  = [0] * (N + 1)\n",
    "\n",
    "yes = 0\n",
    "\n",
    "for i in range(1,N+1):\n",
    "  t[i], x[i], y[i] = map(int, input().split())\n",
    "\n",
    "for i in range(1,N+1):\n",
    "  if (t[i]-t[i-1]) < (x[i]+y[i]-(x[i-1]+y[i-1])):\n",
    "    print(\"No\")\n",
    "    sys.exit()\n",
    "  else:\n",
    "    sum = [x[i], y[i]]\n",
    "    for j in range(t[i]-t[i-1]):\n",
    "      if sum[0] > x[i-1]:\n",
    "        sum[0] = sum[0] - 1\n",
    "      elif sum[0] < x[i-1]:\n",
    "        sum[0] = sum[0] + 1\n",
    "      elif sum[0]==x[i-1]:\n",
    "        if sum[1] > y[i-1]:\n",
    "          sum[1] = sum[1] - 1\n",
    "        elif sum[1] < y[i-1]:\n",
    "          sum[1] = sum[1] + 1\n",
    "        else:\n",
    "          sum[0] = sum[0] + 1\n",
    "    if sum[0]==x[i-1] and sum[1]==y[i-1]:\n",
    "      yes += 1\n",
    "    else:\n",
    "      print(\"No\")\n",
    "      sys.exit()\n",
    "\n",
    "if yes==N:\n",
    "  print(\"Yes\")\n",
    "else:\n",
    "  print(\"No\")"
   ]
  },
  {
   "cell_type": "markdown",
   "metadata": {
    "id": "rfXjDoNwP5Hv"
   },
   "source": [
    "解答\n",
    "\n",
    "パターン1"
   ]
  },
  {
   "cell_type": "code",
   "execution_count": 1,
   "metadata": {
    "colab": {
     "base_uri": "https://localhost:8080/"
    },
    "executionInfo": {
     "elapsed": 11480,
     "status": "ok",
     "timestamp": 1605567764694,
     "user": {
      "displayName": "中村優太",
      "photoUrl": "",
      "userId": "15697133059278154049"
     },
     "user_tz": -540
    },
    "id": "DneBTbsXP88b",
    "outputId": "abd7a1ba-1b3e-452d-e6c0-a7d572f21fb8"
   },
   "outputs": [
    {
     "name": "stdout",
     "output_type": "stream",
     "text": [
      "2\n",
      "5 5 0\n",
      "11 0 5\n",
      "Yes\n"
     ]
    }
   ],
   "source": [
    "n = int(input())\n",
    "for i in range(n):\n",
    "  t,x,y = map(int,input().split())\n",
    "  if (x + y) > t or (x + y + t) % 2:\n",
    "    print(\"No\")\n",
    "    exit()\n",
    "print(\"Yes\")"
   ]
  },
  {
   "cell_type": "markdown",
   "metadata": {
    "id": "yfmnfayBSndD"
   },
   "source": [
    "とてもシンプル。コード中のif文の条件を満たさなければ必ず辿り着けるというルールに気付くかどうかの問題だったようです。"
   ]
  },
  {
   "cell_type": "markdown",
   "metadata": {
    "id": "xvxwJQqqTS9o"
   },
   "source": [
    "おそらく解答は間違っていると考えられる。上記のif分の条件を満たしても必ずたどり着ける訳でもない。n=2, (5, 5, 0) (11, 0, 5)がそれを物語っている。"
   ]
  }
 ],
 "metadata": {
  "colab": {
   "authorship_tag": "ABX9TyN6Pg9M2BKlLl98W5UUUEz8",
   "collapsed_sections": [],
   "name": "AtCoder_Beginners_Selection.ipynb",
   "provenance": []
  },
  "kernelspec": {
   "display_name": "Python 3",
   "language": "python",
   "name": "python3"
  },
  "language_info": {
   "codemirror_mode": {
    "name": "ipython",
    "version": 3
   },
   "file_extension": ".py",
   "mimetype": "text/x-python",
   "name": "python",
   "nbconvert_exporter": "python",
   "pygments_lexer": "ipython3",
   "version": "3.8.5"
  }
 },
 "nbformat": 4,
 "nbformat_minor": 4
}
